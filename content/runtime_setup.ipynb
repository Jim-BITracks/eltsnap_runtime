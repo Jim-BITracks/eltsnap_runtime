{
    "metadata": {
        "kernelspec": {
            "name": "powershell",
            "display_name": "PowerShell",
            "language": "powershell"
        },
        "language_info": {
            "name": "powershell",
            "codemirror_mode": "shell",
            "mimetype": "text/x-sh",
            "file_extension": ".ps1"
        }
    },
    "nbformat_minor": 2,
    "nbformat": 4,
    "cells": [
        {
            "cell_type": "markdown",
            "source": [
                "# Runtime Setup\r\n",
                "## Add eltSnap Runtime to Path Statement"
            ],
            "metadata": {
                "azdata_cell_guid": "bde29edd-827d-42ab-a5c6-5d88ab4c0062"
            }
        },
        {
            "cell_type": "markdown",
            "source": [
                "## Set"
            ],
            "metadata": {
                "azdata_cell_guid": "66141db1-9f10-4464-a37f-fbabdecc1394"
            }
        },
        {
            "cell_type": "code",
            "source": [
                "Set-Location -Path C:\\ADS\\Repository\\eltsnap_runtime\\run -PassThru"
            ],
            "metadata": {
                "azdata_cell_guid": "9556b0df-53c0-46e9-b595-52a240237df3",
                "tags": []
            },
            "outputs": [
                {
                    "name": "stdout",
                    "text": "\nPath                                 \n----                                 \nC:\\ADS\\Repository\\eltsnap_runtime\\run\nC:\\ADS\\Repository\\eltsnap_runtime\\run\n\n\n",
                    "output_type": "stream"
                }
            ],
            "execution_count": 4
        },
        {
            "cell_type": "markdown",
            "source": [
                "## View Current $ENV:PATH String"
            ],
            "metadata": {
                "azdata_cell_guid": "47f249cf-c50c-484b-b700-094e20264466"
            }
        },
        {
            "cell_type": "code",
            "source": [
                "$ENV:PATH"
            ],
            "metadata": {
                "azdata_cell_guid": "75e47eb6-d5ee-4dbd-80f7-02d89ab2542a"
            },
            "outputs": [],
            "execution_count": null
        }
    ]
}