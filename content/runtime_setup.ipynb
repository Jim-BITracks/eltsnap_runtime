{
    "metadata": {
        "kernelspec": {
            "name": "SQL",
            "display_name": "SQL",
            "language": "sql"
        },
        "language_info": {
            "name": "sql",
            "version": ""
        }
    },
    "nbformat_minor": 2,
    "nbformat": 4,
    "cells": [
        {
            "cell_type": "markdown",
            "source": [
                "# Runtime Setup"
            ],
            "metadata": {
                "azdata_cell_guid": "bde29edd-827d-42ab-a5c6-5d88ab4c0062"
            }
        }
    ]
}