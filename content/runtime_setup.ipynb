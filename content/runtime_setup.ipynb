{
    "metadata": {
        "kernelspec": {
            "name": "powershell",
            "display_name": "PowerShell",
            "language": "powershell"
        },
        "language_info": {
            "name": "powershell",
            "codemirror_mode": "shell",
            "mimetype": "text/x-sh",
            "file_extension": ".ps1"
        }
    },
    "nbformat_minor": 2,
    "nbformat": 4,
    "cells": [
        {
            "cell_type": "markdown",
            "source": [
                "# Runtime Setup\r\n",
                "## Add eltSnap's Runtime ('Run' folder) to User Path Statement\r\n",
                "\r\n",
                "> Note: Do not use the \"**Run all**\" button. Instead, this notebook must be run step-by-step (i.e. by running and verifing each code cell)"
            ],
            "metadata": {
                "azdata_cell_guid": "bde29edd-827d-42ab-a5c6-5d88ab4c0062"
            }
        },
        {
            "cell_type": "markdown",
            "source": [
                "## Set the Current Location to the eltSnap runtime folder\r\n",
                "\r\n",
                "1. Right Click on the 'Run' folder located in the 'Explorer' Side-bar, and click: **Copy Path**\r\n",
                "\r\n",
                "![](runtime_dir.png)\r\n",
                "\r\n",
                "2. **Paste** the folder Path in the Code cell (below), _replacing_ the literal: **{paste Path here}**\r\n",
                "\r\n",
                ""
            ],
            "metadata": {
                "azdata_cell_guid": "66141db1-9f10-4464-a37f-fbabdecc1394"
            }
        },
        {
            "cell_type": "code",
            "source": [
                "Set-Location -Path \"{paste Path here}\" -PassThru"
            ],
            "metadata": {
                "azdata_cell_guid": "9556b0df-53c0-46e9-b595-52a240237df3",
                "tags": []
            },
            "outputs": [],
            "execution_count": null
        },
        {
            "cell_type": "markdown",
            "source": [
                "## Verify Runtime Folder\r\n",
                "\r\n",
                "View the runtime's 'help' content. A sucessful run (command below) indicates the program: **eltsnap_runtime_v2.exe** is in your _current folder_ location: "
            ],
            "metadata": {
                "azdata_cell_guid": "7a4ddc37-0956-45b5-b532-63743e29e6d0"
            }
        },
        {
            "cell_type": "code",
            "source": [
                ".\\eltsnap_runtime_v2 -h"
            ],
            "metadata": {
                "azdata_cell_guid": "93f26798-d3b5-47da-85b8-a6139d42abe8"
            },
            "outputs": [],
            "execution_count": null
        },
        {
            "cell_type": "markdown",
            "source": [
                "## View the **Current** User PATH Variable"
            ],
            "metadata": {
                "azdata_cell_guid": "1bfa97c1-3f01-4713-86b8-f2e37aad94ca"
            }
        },
        {
            "cell_type": "code",
            "source": [
                "[System.Environment]::GetEnvironmentVariable('PATH','user')"
            ],
            "metadata": {
                "azdata_cell_guid": "92b623b9-c9ca-4363-a327-dfb7db4d482a"
            },
            "outputs": [],
            "execution_count": null
        },
        {
            "cell_type": "markdown",
            "source": [
                "## Update the current User PATH Variable to include the 'run' folder"
            ],
            "metadata": {
                "azdata_cell_guid": "47f249cf-c50c-484b-b700-094e20264466"
            }
        },
        {
            "cell_type": "code",
            "source": [
                "$run_folder = Get-Location\r\n",
                "[Environment]::SetEnvironmentVariable(\"Path\", [System.Environment]::GetEnvironmentVariable('PATH','user') + \"$run_folder\", [EnvironmentVariableTarget]::User)\r\n",
                "\r\n",
                "[System.Environment]::GetEnvironmentVariable('PATH','user')"
            ],
            "metadata": {
                "azdata_cell_guid": "8c66bfce-f8fd-4021-a1de-bb68e5f71c4d",
                "tags": []
            },
            "outputs": [],
            "execution_count": null
        }
    ]
}