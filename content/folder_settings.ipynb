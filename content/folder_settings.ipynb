{
    "metadata": {
        "kernelspec": {
            "name": "SQL",
            "display_name": "SQL",
            "language": "sql"
        },
        "language_info": {
            "name": "sql",
            "version": ""
        }
    },
    "nbformat_minor": 2,
    "nbformat": 4,
    "cells": [
        {
            "cell_type": "markdown",
            "source": [
                "# Folder Settings for Runtime\r\n",
                "\r\n",
                "These are the SQL Server based Runtime Settings for Folder Locations\r\n",
                "\r\n",
                "> Connect this Notebook to the **eltsnap_v2** database\r\n",
                "\r\n",
                "## View Current Application Config Settings\r\n",
                ""
            ],
            "metadata": {
                "azdata_cell_guid": "28959676-0172-4bd5-bb95-a46f9b2f0e80"
            }
        },
        {
            "cell_type": "code",
            "source": [
                "SELECT * FROM [elt].[application_config] WHERE [setting] LIKE '%dir%' OR [setting] LIKE '%path%';"
            ],
            "metadata": {
                "azdata_cell_guid": "1de34c2b-16fa-4d24-bc0f-f506d24cc32b"
            },
            "outputs": [],
            "execution_count": null
        },
        {
            "cell_type": "markdown",
            "source": [
                "## Update the above settings as needed in table: [elt].[application_config]\r\n",
                "\r\n",
                "Use the following graphic as a guide\r\n",
                "- the first 3 setings must reference the 'run' & 'script' folders\r\n",
                "- the last two can be anywhere on your system\r\n",
                "\r\n",
                "![](folder_settings.png)\r\n",
                "\r\n",
                "To update these values, you can edit table: **[elt].[application_config]** directly, or use the 'helper' UPDATE statements below. Before running, replace the **{folder}** literal with your actual folder name"
            ],
            "metadata": {
                "azdata_cell_guid": "3381b082-3604-459e-bf13-4c874b110e54"
            }
        },
        {
            "cell_type": "code",
            "source": [
                "-- UPDATE [elt].[application_config] SET [use_value] = '{folder}\\scripts\\powershell' WHERE [setting] = 'bulkcopy directory'\r\n",
                "\r\n",
                "-- UPDATE [elt].[application_config] SET [use_value] = '{folder}\\scripts\\powershell' WHERE [setting] = 'execute sql directory'\r\n",
                "\r\n",
                "-- UPDATE [elt].[application_config] SET [use_value] = '{folder}\\run\\config.json' WHERE [setting] = 'config path'\r\n",
                "\r\n",
                "-- UPDATE [elt].[application_config] SET [use_value] = '{folder}\\log' WHERE [setting] = 'log dir'\r\n",
                "\r\n",
                "-- UPDATE [elt].[application_config] SET [use_value] = '{folder}\\html' WHERE [setting] = 'path to html files location'"
            ],
            "metadata": {
                "azdata_cell_guid": "6b9ad484-d795-4413-b9b1-dcf3b0831079"
            },
            "outputs": [],
            "execution_count": null
        }
    ]
}