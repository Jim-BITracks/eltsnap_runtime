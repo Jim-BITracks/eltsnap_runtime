{
    "metadata": {
        "kernelspec": {
            "name": "SQL",
            "display_name": "SQL",
            "language": "sql"
        },
        "language_info": {
            "name": "sql",
            "version": ""
        }
    },
    "nbformat_minor": 2,
    "nbformat": 4,
    "cells": [
        {
            "cell_type": "markdown",
            "source": [
                "# Folder Setting for Runtime Log\r\n",
                "\r\n",
                "For trouble-shooting purposes, the runtime creates a log entry for each package that is executed. In order to not clutter the 'git managed' folder containing your 'runtime' solution, you may want to specify an alternative location for these log files.\r\n",
                "\r\n",
                "> Connect this Notebook to the **eltsnap_v2** database\r\n",
                "\r\n",
                "## View Current Application Config Settings\r\n",
                ""
            ],
            "metadata": {
                "azdata_cell_guid": "28959676-0172-4bd5-bb95-a46f9b2f0e80"
            }
        },
        {
            "cell_type": "code",
            "source": [
                "SELECT * FROM [elt].[application_config];"
            ],
            "metadata": {
                "azdata_cell_guid": "1de34c2b-16fa-4d24-bc0f-f506d24cc32b"
            },
            "outputs": [],
            "execution_count": null
        },
        {
            "cell_type": "markdown",
            "source": [
                "## Update the 'log' folder location in table: \\[elt\\].\\[application\\_config\\]\n",
                "\n",
                "Sample Configuration Settings:\n",
                "\n",
                "![](.\\folder_settings.png)\n",
                "\n",
                "To update these values, you can edit table: **\\[elt\\].\\[application\\_config\\]** directly, or use the 'helper' UPDATE statement below. Before running\n",
                "\n",
                "- Create a new folder *outside* of the current repository\n",
                "- Replace the **{folder}** literal in the code below with your *actual* folder name\n",
                "- Run the code block\n",
                "\n",
                "> Another setting to be aware of is the \"runtime license\". If you choose to license our eltSnap runtime (which allows for more than 4 packages to run per project), you can enter your license in this same table. Similar to the \"log dir\" entry, this will simplify upgrade steps, which would normally _overwrite_ your config file: **(..\\\\run\\\\config.json)** during a _git sync_ operation."
            ],
            "metadata": {
                "azdata_cell_guid": "3381b082-3604-459e-bf13-4c874b110e54"
            },
            "attachments": {}
        },
        {
            "cell_type": "code",
            "source": [
                "INSERT INTO [elt].[application_config] VALUES ('log dir','{folder}')\r\n",
                ""
            ],
            "metadata": {
                "azdata_cell_guid": "6b9ad484-d795-4413-b9b1-dcf3b0831079",
                "tags": [
                    "hide_input"
                ]
            },
            "outputs": [],
            "execution_count": null
        }
    ]
}